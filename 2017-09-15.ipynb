{
 "cells": [
  {
   "cell_type": "markdown",
   "metadata": {},
   "source": [
    "Combien de racines a une équation du 2nd degré ?\n",
    "Combien de racines a l'équation ax² + bx + c = 0  (a≠0) ?\n",
    "\n",
    "Combien de racines a l'équation x² + 4x + 3 = 0 ?\n",
    "Combien de racines a l'équation -x² + 2.5x = 0 ?\n",
    "Combien de racines a l'équation x² + 1 = 5 ?\n",
    "...\n",
    "\n",
    "Combien de racines a l'équation x = 0 ?\n",
    "Combien de racines a l'équation x³ + x² + x = 0 ?\n",
    "Quel temps fera-t-il demain ?\n",
    "...\n",
    "\n",
    "Les entrées servent à identifier, parmis toutes les questions précises auquel l'algo peut répondre, celle dont on veut la réponse.\n",
    "\n",
    "Les sorties servent à exprimer la réponse à la question / la solution au problème.\n",
    "\n"
   ]
  },
  {
   "cell_type": "code",
   "execution_count": 3,
   "metadata": {},
   "outputs": [
    {
     "name": "stdout",
     "output_type": "stream",
     "text": [
      "Donnez moi la valeur de a ? -1\n",
      "Donnez moi la valeur de b ? 2.5\n",
      "Donnez moi la valeur de c ? 0\n"
     ]
    }
   ],
   "source": [
    "a = float(input(\"Donnez moi la valeur de a ? \"))\n",
    "b = float(input(\"Donnez moi la valeur de b ? \"))\n",
    "c = float(input(\"Donnez moi la valeur de c ? \"))"
   ]
  },
  {
   "cell_type": "code",
   "execution_count": 22,
   "metadata": {},
   "outputs": [
    {
     "name": "stdout",
     "output_type": "stream",
     "text": [
      "Bonjour le monde\n"
     ]
    }
   ],
   "source": [
    "print(\"Bonjour le monde\")"
   ]
  },
  {
   "cell_type": "code",
   "execution_count": 23,
   "metadata": {},
   "outputs": [
    {
     "name": "stdout",
     "output_type": "stream",
     "text": [
      "42\n"
     ]
    }
   ],
   "source": [
    "print(42)"
   ]
  },
  {
   "cell_type": "code",
   "execution_count": 19,
   "metadata": {},
   "outputs": [
    {
     "name": "stdout",
     "output_type": "stream",
     "text": [
      "-1.0\n"
     ]
    }
   ],
   "source": [
    "print(a)"
   ]
  },
  {
   "cell_type": "code",
   "execution_count": 20,
   "metadata": {},
   "outputs": [
    {
     "name": "stdout",
     "output_type": "stream",
     "text": [
      "-1.0 plus 2.5 égal 1.5\n"
     ]
    }
   ],
   "source": [
    "print(a, \"plus\", b, \"égal\", a+b)"
   ]
  },
  {
   "cell_type": "code",
   "execution_count": 24,
   "metadata": {},
   "outputs": [
    {
     "name": "stdout",
     "output_type": "stream",
     "text": [
      "3.3333333333333335\n"
     ]
    }
   ],
   "source": [
    "print(10/3)"
   ]
  },
  {
   "cell_type": "code",
   "execution_count": 28,
   "metadata": {},
   "outputs": [
    {
     "name": "stdout",
     "output_type": "stream",
     "text": [
      "3 1\n",
      "3\n",
      "1\n"
     ]
    }
   ],
   "source": [
    "q, r = divmod(10,3)\n",
    "print(q, r)\n",
    "print(10//3)\n",
    "print(10%3)  # 10 modulo 3"
   ]
  },
  {
   "cell_type": "code",
   "execution_count": 30,
   "metadata": {},
   "outputs": [
    {
     "name": "stdout",
     "output_type": "stream",
     "text": [
      "20\n"
     ]
    }
   ],
   "source": [
    "print(((2+3)*4) -1)"
   ]
  }
 ],
 "metadata": {
  "kernelspec": {
   "display_name": "Python 3",
   "language": "python",
   "name": "python3"
  },
  "language_info": {
   "codemirror_mode": {
    "name": "ipython",
    "version": 3
   },
   "file_extension": ".py",
   "mimetype": "text/x-python",
   "name": "python",
   "nbconvert_exporter": "python",
   "pygments_lexer": "ipython3",
   "version": "3.5.3"
  }
 },
 "nbformat": 4,
 "nbformat_minor": 2
}
