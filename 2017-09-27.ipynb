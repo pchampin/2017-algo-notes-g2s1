{
 "cells": [
  {
   "cell_type": "code",
   "execution_count": 7,
   "metadata": {},
   "outputs": [
    {
     "name": "stdout",
     "output_type": "stream",
     "text": [
      "Entier positif ? 12534\n",
      "15\n"
     ]
    }
   ],
   "source": [
    "\"\"\"\n",
    ":entrée n: int\n",
    ":pré-cond: n > 0\n",
    ":sortie s: int\n",
    ":post-condition: s est la somme des chiffres qui constituent n\n",
    "\"\"\"\n",
    "n = int(input(\"Entier positif ? \"))\n",
    "s = 0\n",
    "while n > 0:\n",
    "    s = s + n%10\n",
    "    n = n//10\n",
    "print(s)"
   ]
  },
  {
   "cell_type": "raw",
   "metadata": {},
   "source": [
    "Résultats\n",
    "n = 12534  →  s = 15\n",
    "n = 20000  →  s = 2\n",
    "n = 10001  →  s = 2"
   ]
  },
  {
   "cell_type": "code",
   "execution_count": 8,
   "metadata": {},
   "outputs": [
    {
     "name": "stdout",
     "output_type": "stream",
     "text": [
      "Entier positif ? 5\n",
      "3\n"
     ]
    }
   ],
   "source": [
    "\"\"\"\n",
    ":entrée n: int\n",
    ":pré-cond: n > 0\n",
    ":sortie s: int\n",
    ":post-cond: s est la somme des multiples de 3 dans [3;n-1]\n",
    "         OU s est la somme des multiples de 3 strictement inférieurs à n\n",
    "         OU s est la somme des multiples de 3 dans [0;n[\n",
    "\"\"\"\n",
    "n = int(input(\"Entier positif ? \"))\n",
    "i = 3\n",
    "s = 0\n",
    "while i <= n:\n",
    "    if i%3 == 0:\n",
    "        s = s+i\n",
    "    i = i+1\n",
    "print(s)\n"
   ]
  },
  {
   "cell_type": "raw",
   "metadata": {},
   "source": [
    "Résultats\n",
    "n = 5   →  s = 3\n",
    "n = 9   →  s = 9\n",
    "n = 11  →  s = 18"
   ]
  },
  {
   "cell_type": "code",
   "execution_count": null,
   "metadata": {
    "collapsed": true
   },
   "outputs": [],
   "source": [
    "\"\"\"\n",
    ":entrée n: int\n",
    ":pré-cond: n > 0\n",
    ":sortie scp: int\n",
    ":post-cond: scp est le nombre de chiffres pairs qui constiuent n\n",
    "\"\"\""
   ]
  }
 ],
 "metadata": {
  "kernelspec": {
   "display_name": "Python 3",
   "language": "python",
   "name": "python3"
  },
  "language_info": {
   "codemirror_mode": {
    "name": "ipython",
    "version": 3
   },
   "file_extension": ".py",
   "mimetype": "text/x-python",
   "name": "python",
   "nbconvert_exporter": "python",
   "pygments_lexer": "ipython3",
   "version": "3.5.3"
  }
 },
 "nbformat": 4,
 "nbformat_minor": 2
}
