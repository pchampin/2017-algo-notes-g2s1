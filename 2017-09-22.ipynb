{
 "cells": [
  {
   "cell_type": "code",
   "execution_count": 1,
   "metadata": {},
   "outputs": [
    {
     "name": "stdout",
     "output_type": "stream",
     "text": [
      "mois ? 12\n",
      "31\n"
     ]
    }
   ],
   "source": [
    "# :entrée mois: int\n",
    "# :pré-condition: 1 ≤ mois ≤ 12\n",
    "# :sortie jours: int\n",
    "# :post-condition: 'jours' est le nombre de jours\n",
    "#    du mois donné pour une année non-bissextile\n",
    "\n",
    "mois = int(input(\"mois ? \"))\n",
    "# 1 signifie janvier, 2 signifie février, etc...\n",
    "if mois==2:\n",
    "    jours = 28\n",
    "else:\n",
    "    if mois==4 or mois==6 or mois==9 or mois==11:\n",
    "        jours = 30\n",
    "    else:\n",
    "        # mois est dans {1,3,5,7,8,10,12 }\n",
    "        jours = 31\n",
    "print(jours)"
   ]
  },
  {
   "cell_type": "code",
   "execution_count": 9,
   "metadata": {},
   "outputs": [
    {
     "name": "stdout",
     "output_type": "stream",
     "text": [
      "0.1\n",
      "(3602879701896397, 36028797018963968)\n"
     ]
    }
   ],
   "source": [
    "# erreurs d'arrondi sur les flottants\n",
    "x = 1/10\n",
    "print(x)\n",
    "print(x.as_integer_ratio())"
   ]
  },
  {
   "cell_type": "code",
   "execution_count": 15,
   "metadata": {},
   "outputs": [
    {
     "name": "stdout",
     "output_type": "stream",
     "text": [
      "année ? 2010\n",
      "0\n"
     ]
    }
   ],
   "source": [
    "# :entrée année: int\n",
    "# :pré-condition: année > 0\n",
    "# :sortie b: int\n",
    "# :post-condition:'b' vaut 1 si 'année' est bissextile, 0 sinon\n",
    "\n",
    "année = int(input(\"année ? \"))\n",
    "if année%400 == 0:\n",
    "    b = 1\n",
    "else:\n",
    "    if année%100 == 0:\n",
    "        b = 0\n",
    "    else:\n",
    "        if année%4 == 0:\n",
    "            b = 1\n",
    "        else:\n",
    "            b = 0\n",
    "print(b)"
   ]
  },
  {
   "cell_type": "code",
   "execution_count": 16,
   "metadata": {},
   "outputs": [
    {
     "name": "stdout",
     "output_type": "stream",
     "text": [
      "année ? 2100\n",
      "0\n"
     ]
    }
   ],
   "source": [
    "année = int(input(\"année ? \"))\n",
    "if année%4 == 0:\n",
    "    if année%100 == 0:\n",
    "        if année%400 == 0:\n",
    "            b = 1\n",
    "        else:\n",
    "            b = 0\n",
    "    else:\n",
    "        b = 1\n",
    "else:\n",
    "    b = 0\n",
    "print(b)"
   ]
  },
  {
   "cell_type": "code",
   "execution_count": null,
   "metadata": {
    "collapsed": true
   },
   "outputs": [],
   "source": [
    "année = int(input(\"année ? \"))\n",
    "if année%400 == 0  or (année%4==0 and année%100 != 0):\n",
    "    b = 1\n",
    "else:\n",
    "    b = 0\n",
    "print(b)"
   ]
  },
  {
   "cell_type": "markdown",
   "metadata": {},
   "source": [
    "# Booléens\n",
    "\n",
    "```\n",
    "and | T | F |     or | T | F |     not | T | F |\n",
    "----+---+---⋅     ---+---+---⋅     ----+---+---⋅\n",
    "  T | T | F |      T | T | T |         | F | T |\n",
    "----+---+---⋅     ---+---+---⋅         ⋅---⋅---⋅\n",
    "  F | F | F |      F | T | F |\n",
    "----⋅---⋅---⋅     ---⋅---⋅---⋅\n",
    "```"
   ]
  },
  {
   "cell_type": "code",
   "execution_count": 28,
   "metadata": {},
   "outputs": [
    {
     "name": "stdout",
     "output_type": "stream",
     "text": [
      "année ? 2000\n",
      "True\n"
     ]
    }
   ],
   "source": [
    "# :entrée année: int\n",
    "# :pré-condition: année > 0\n",
    "# :sortie b: bool\n",
    "# :post-condition:'b' vaut True si 'année' est bissextile, False sinon\n",
    "\n",
    "année = int(input(\"année ? \"))\n",
    "b = année%400 == 0  or (année%4==0 and année%100 != 0):\n",
    "    \n",
    "if b:\n",
    "print(b)"
   ]
  }
 ],
 "metadata": {
  "kernelspec": {
   "display_name": "Python 3",
   "language": "python",
   "name": "python3"
  },
  "language_info": {
   "codemirror_mode": {
    "name": "ipython",
    "version": 3
   },
   "file_extension": ".py",
   "mimetype": "text/x-python",
   "name": "python",
   "nbconvert_exporter": "python",
   "pygments_lexer": "ipython3",
   "version": "3.5.3"
  }
 },
 "nbformat": 4,
 "nbformat_minor": 2
}
