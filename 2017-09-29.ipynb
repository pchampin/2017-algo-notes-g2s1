{
 "cells": [
  {
   "cell_type": "code",
   "execution_count": 13,
   "metadata": {},
   "outputs": [
    {
     "name": "stdout",
     "output_type": "stream",
     "text": [
      "Entier positif ? 12543\n",
      "2\n"
     ]
    }
   ],
   "source": [
    "\"\"\"\n",
    ":entrée n: int\n",
    ":pré-cond: n > 0\n",
    ":sortie ncp: int\n",
    ":post-cond: ncp est le nombre de chiffres pairs qui constiuent n\n",
    "\"\"\"\n",
    "n = int(input(\"Entier positif ? \"))\n",
    "ncp = 0\n",
    "while n > 0:\n",
    "    chiffre = n%10\n",
    "    if chiffre%2 == 0:\n",
    "        ncp = ncp + 1\n",
    "    n = n//10\n",
    "\n",
    "print(ncp)"
   ]
  },
  {
   "cell_type": "markdown",
   "metadata": {},
   "source": [
    "# Trace d'exécution \n",
    "\n",
    "Séquence de \"photos\" des variables aux moments clés de l'algorithme :\n",
    "\n",
    "* après la saisie des entrées,\n",
    "* en entrant dans une ligne `while`,\n",
    "* en entrant dans la dernière ligne.\n",
    "\n",
    "Exemple (algo ci-dessus)"
   ]
  },
  {
   "cell_type": "raw",
   "metadata": {},
   "source": [
    "trace:\n",
    "#8  n = 12543  ncp = ?  chiffre = ?\n",
    "#9  n = 12543  ncp = 0  chiffre = ?\n",
    "#9  n = 1254   ncp = 0  chiffre = 3\n",
    "#9  n = 125    ncp = 1  chiffre = 4\n",
    "#9  n = 12     ncp = 1  chiffre = 5\n",
    "#9  n = 1      ncp = 2  chiffre = 2\n",
    "#9  n = 0      ncp = 2  chiffre = 1\n",
    "#15 n = 0      ncp = 2  chiffre = 1"
   ]
  },
  {
   "cell_type": "code",
   "execution_count": 20,
   "metadata": {},
   "outputs": [
    {
     "name": "stdout",
     "output_type": "stream",
     "text": [
      "n ? 5\n",
      "120\n"
     ]
    }
   ],
   "source": [
    "\"\"\"\n",
    ":entrée n: int\n",
    ":pré-cond: n >= 0\n",
    ":sortie f: int\n",
    ":post-cond: f = n! = 1x2x3...xn\n",
    "\"\"\"\n",
    "n = int(input(\"n ? \"))\n",
    "f = 1\n",
    "i = 2\n",
    "while i <= n:\n",
    "    f = f*i\n",
    "    i = i+1\n",
    "print(f)\n",
    "\n",
    "# trace de cet algo pour\n",
    "# n = 3\n",
    "# n = 5"
   ]
  },
  {
   "cell_type": "raw",
   "metadata": {},
   "source": [
    "trace\n",
    "#8  n = 5  i = ?  f = ?\n",
    "#10 n = 5  i = 2  f = 1\n",
    "#10 n = 5  i = 3  f = 2\n",
    "#10 n = 5  i = 4  f = 6\n",
    "#10 n = 5  i = 5  f = 24\n",
    "#10 n = 5  i = 6  f = 120\n",
    "#14 n = 5  i = 6  f = 120"
   ]
  },
  {
   "cell_type": "code",
   "execution_count": 19,
   "metadata": {},
   "outputs": [
    {
     "name": "stdout",
     "output_type": "stream",
     "text": [
      "n ? 3\n",
      "6\n"
     ]
    }
   ],
   "source": [
    "n = int(input(\"n ? \"))\n",
    "f = 1\n",
    "while n > 1:\n",
    "    f = f*n\n",
    "    n = n-1\n",
    "print(f)"
   ]
  },
  {
   "cell_type": "markdown",
   "metadata": {},
   "source": [
    "# Complexité\n",
    "\n",
    "Voir le [chapitre du cours](http://liris.cnrs.fr/~pchampin/enseignement/algo/cours/algo/trace_complexite.html#complexite)."
   ]
  }
 ],
 "metadata": {
  "kernelspec": {
   "display_name": "Python 3",
   "language": "python",
   "name": "python3"
  },
  "language_info": {
   "codemirror_mode": {
    "name": "ipython",
    "version": 3
   },
   "file_extension": ".py",
   "mimetype": "text/x-python",
   "name": "python",
   "nbconvert_exporter": "python",
   "pygments_lexer": "ipython3",
   "version": "3.5.3"
  }
 },
 "nbformat": 4,
 "nbformat_minor": 2
}
