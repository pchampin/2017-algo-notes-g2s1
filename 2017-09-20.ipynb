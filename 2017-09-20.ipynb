{
 "cells": [
  {
   "cell_type": "code",
   "execution_count": 8,
   "metadata": {},
   "outputs": [
    {
     "name": "stdout",
     "output_type": "stream",
     "text": [
      "rayon (nombre positif) ? 1\n",
      "6.28\n",
      "3.14\n"
     ]
    }
   ],
   "source": [
    "# :entrée rayon: float\n",
    "# :pré-conditions: rayon >= 0 \n",
    "# :sortie périmètre: float\n",
    "# :sortie surface: float\n",
    "# :post-conditions: \n",
    "#   'périmètre' est le périmètre d'un cercle de rayon 'rayon';\n",
    "#   'surface' est la surface d'un cercle de rayon 'rayon';\n",
    "\n",
    "rayon = float(input(\"rayon (nombre positif) ? \"))\n",
    "périmètre = 2 * 3.14 * rayon\n",
    "surface = 3.14 * rayon * rayon\n",
    "print(périmètre)\n",
    "print(surface)"
   ]
  },
  {
   "cell_type": "markdown",
   "metadata": {},
   "source": [
    "# Notion de contrat\n",
    "\n",
    "La spécification du problème (comme dans l'algo ci-dessus) constituent le **contrat** de l'algorithme.\n",
    "Les entrées et les pré-conditions sont les engagements de l'utilisateur (dans notre cas, l'humain qui entre les données au clavier). Les sorties et les post-conditions sont les engagements de l'algorithme (et donc du programmeur qui l'écrit).\n",
    "\n",
    "Comme dans tout contrat, si l'une des parties ne respecte pas ses engagement, l'autre est libéré de ses obligations. En d'autres termes, si les valeurs en entrées ne respectent pas le contrat (types des entrées, pré-conditions), l'algorithme peut faire litteralement n'importe quoi.\n",
    "\n",
    "Il n'est donc *pas nécessaire* de vérifier si les pré-conditions sont remplies, ni de gérer les cas où elles ne le seraient pas. Lorsqu'on écrit l'algorithme, on fait l'hypothèses que les pré-conditions sont vérifiées.\n",
    "\n",
    "# Structure conditionnelle (`if-then-else`)"
   ]
  },
  {
   "cell_type": "code",
   "execution_count": 13,
   "metadata": {},
   "outputs": [
    {
     "name": "stdout",
     "output_type": "stream",
     "text": [
      "a (≠0) ?1\n",
      "b ?2\n",
      "c ?1\n",
      "1\n"
     ]
    }
   ],
   "source": [
    "# :entrée a: float\n",
    "# :entrée b: float\n",
    "# :entrée c: float\n",
    "# :pré-conditions: a ≠ 0\n",
    "# :sortie nb_racines: int\n",
    "# :post-conditions: nb_racine est le nombre de racines\n",
    "#    de l'équarion ax² + bx + c = 0\n",
    "\n",
    "a = float(input(\"a (≠0) ?\"))\n",
    "b = float(input(\"b ?\"))\n",
    "c = float(input(\"c ?\"))\n",
    "\n",
    "Δ = b*b - 4*a*c\n",
    "if Δ < 0:\n",
    "    nb_racines = 0\n",
    "else:\n",
    "    if Δ == 0:\n",
    "        nb_racines = 1\n",
    "    else:\n",
    "        nb_racines = 2\n",
    "print(nb_racines)\n"
   ]
  },
  {
   "cell_type": "markdown",
   "metadata": {},
   "source": [
    "## Opérateurs de comparaison\n",
    "\n",
    "```\n",
    "< > <= >= != ==\n",
    "```\n",
    "\n",
    "Remarques sur la différence entre\n",
    "\n",
    "* l'opérateur d'affectation `=`,\n",
    "* le test d'égalité `==` qui correspond au \"égal\" des mathématiques.\n",
    "\n",
    "### L'affectation n'est pas une égalité mathématique\n",
    "\n",
    "Par exemple :\n",
    "```\n",
    "x = x+1\n",
    "```\n",
    "est tout à fait valide en informatique (alors qu'en mathématique, cette équation n'admet aucune solution).\n",
    "\n",
    "Autre exemple :\n",
    "```\n",
    "x = 1\n",
    "```\n",
    "n'est pas équivalent à\n",
    "```\n",
    "1 = x\n",
    "```\n",
    "alors qu'en mathématique, le \"sens\" de l'égalité n'a pas d'importance.\n",
    "\n",
    "\n",
    "## Combinaison de plusieurs conditions\n",
    "\n",
    "On peut combiner plusieurs comparaisons avec les opérateurs `and` et `or`."
   ]
  },
  {
   "cell_type": "code",
   "execution_count": 18,
   "metadata": {},
   "outputs": [
    {
     "name": "stdout",
     "output_type": "stream",
     "text": [
      "mois ? 3\n",
      "31\n"
     ]
    }
   ],
   "source": [
    "# :entrée mois: int\n",
    "# :pré-condition: 1 ≤ mois ≤ 12\n",
    "# :sortie jours: int\n",
    "# :post-condition: 'jours' est le nombre de jours\n",
    "#    du mois donné pour une année non-bissextile\n",
    "\n",
    "mois = int(input(\"mois ? \"))\n",
    "if mois==2:\n",
    "    jours = 28\n",
    "else:\n",
    "    if mois==4 or mois==6 or mois==9 or mois==11:\n",
    "        jours = 30\n",
    "    else:\n",
    "        # mois est dans {1,3,5,7,8,10,12 }\n",
    "        jours = 31\n",
    "print(jours)"
   ]
  }
 ],
 "metadata": {
  "kernelspec": {
   "display_name": "Python 3",
   "language": "python",
   "name": "python3"
  },
  "language_info": {
   "codemirror_mode": {
    "name": "ipython",
    "version": 3
   },
   "file_extension": ".py",
   "mimetype": "text/x-python",
   "name": "python",
   "nbconvert_exporter": "python",
   "pygments_lexer": "ipython3",
   "version": "3.5.3"
  }
 },
 "nbformat": 4,
 "nbformat_minor": 2
}
