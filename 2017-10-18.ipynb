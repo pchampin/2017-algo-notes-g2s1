{
 "cells": [
  {
   "cell_type": "markdown",
   "metadata": {},
   "source": [
    "# Fonctions\n",
    "\n",
    "Écrire un algorithme sous forme de fonction permet de le réutiliser dans un autre algorithme (sans nécessiter de copier-coller ni d'adaptation particulière).\n",
    "\n",
    "En général, les entrées d'une fonction ne proviennent pas du clavier mais sont *passées en paramètre* (entre les parenthèses), et ses sorties ne sont pas affichées à l'écran mais *retournées* à l'algorithme appelant.\n",
    "\n",
    "Exemples :"
   ]
  },
  {
   "cell_type": "code",
   "execution_count": 2,
   "metadata": {},
   "outputs": [],
   "source": [
    "def factorielle(n):\n",
    "    \"\"\"\n",
    "    :entrée n: int\n",
    "    :pré-cond: n≥0\n",
    "    :sortie f: int\n",
    "    :post-cond: f = n! = 1x2x3...xn\n",
    "    \"\"\"\n",
    "    f = 1\n",
    "    i = 2\n",
    "    while i <= n:\n",
    "        f = f*i\n",
    "        i = i+1\n",
    "    return f"
   ]
  },
  {
   "cell_type": "code",
   "execution_count": 5,
   "metadata": {},
   "outputs": [
    {
     "name": "stdout",
     "output_type": "stream",
     "text": [
      "n? 4\n",
      "0 ! = 1\n",
      "1 ! = 1\n",
      "2 ! = 2\n",
      "3 ! = 6\n",
      "4 ! = 24\n"
     ]
    }
   ],
   "source": [
    "def affiche_factorielles(n):\n",
    "    i = 0\n",
    "    while i <= n:\n",
    "        fi = factorielle(i)\n",
    "        print(i, \"! =\", fi)\n",
    "        i = i+1\n",
    "    \n",
    "n = int(input(\"n? \"))\n",
    "affiche_factorielles(n)\n"
   ]
  },
  {
   "cell_type": "markdown",
   "metadata": {},
   "source": [
    "## Spécification (contrat) des fonctions que vous avez déjà utilisées"
   ]
  },
  {
   "cell_type": "code",
   "execution_count": 33,
   "metadata": {},
   "outputs": [
    {
     "name": "stdout",
     "output_type": "stream",
     "text": [
      "33 1 34\n"
     ]
    }
   ],
   "source": [
    "# print\n",
    "\"\"\"\n",
    ":entrée: autant qu'on veut, de n'importe quel type\n",
    ":pré-cond: aucune\n",
    ":sortie: texte AFFICHÉ À L'ÉCRAN\n",
    ":post-cond: affiche toutes ses entrées\n",
    "\"\"\"\n",
    "\n",
    "# input\n",
    "\"\"\"\n",
    ":entrée message: texte\n",
    ":entrée: texte SAISI AU CLAVIER\n",
    ":pré-cond: aucune\n",
    ":sortie txt: texte\n",
    ":post-cond: txt est le texte saisi par l'utilisateur\n",
    "\"\"\"\n",
    "\n",
    "#int\n",
    "\"\"\"\n",
    ":entrée txt: texte\n",
    ":pré-cond: txt ne contient que des chiffres\n",
    ":sortie i: int\n",
    ":post-cond: txt est l'écriture en base 10 de i\n",
    "\"\"\"\n",
    "\n",
    "#divmod\n",
    "\"\"\"\n",
    ":entrée dividende: int\n",
    ":entrée diviseur: int\n",
    ":pré-cond: diviseur≠0\n",
    ":sortie quotient: int\n",
    ":sortie reste: int\n",
    ":post-cond: retoure le quotient et le reste de la division euclidiene\n",
    "\"\"\"\n",
    "\n",
    "q, r = divmod(100,3)\n",
    "print(q, r, q+r)"
   ]
  },
  {
   "cell_type": "markdown",
   "metadata": {},
   "source": [
    "## Appel de fonction et variables locales\n",
    "\n",
    "Toutes les variables à l'intérieur d'une fonction (y compris ses paramètres d'entrée et de sortie) sont appelés des variables *locales*. Elles n'existent qu'à l'intérieur de la fonction. Même si une variable de même nom existe à l'extérieur de la fonction (par exemple dans l'algorithme appelant), elles sont considérées comme deux variables différents.\n",
    "\n",
    "Exemple: les fonctions ``factorielle`` et ``affiche_factorielles`` ci-dessus ont des variables avec les mêmes noms (*n*, *i*), mais ce sont des variables différentes.\n",
    "Cf. exemple : https://goo.gl/oxyh5G\n",
    "\n",
    "Lorsqu'on écrit une trace d'exécution avec des appels de fonction, il faut préciser les moments ou l'on rentre/sort d'une fonction."
   ]
  },
  {
   "cell_type": "markdown",
   "metadata": {},
   "source": [
    "Trace d'exécution:\n",
    "```\n",
    "affiche_factorielle:\n",
    "#2 n=4  i=?  fi=?\n",
    "#3 n=4  i=0  fi=?\n",
    "  factorielle\n",
    "  #8   n=0  i=?  f=?\n",
    "  #10  n=0  i=2  f=1\n",
    "  #13  n=0  i=2  f=1\n",
    "  retourne 1\n",
    "#3 n=4  i=1  fi=1\n",
    "  factorielle\n",
    "  #8   n=1  i=?  f=?\n",
    "  #10  n=1  i=2  f=1\n",
    "  #13  n=1  i=2  f=1\n",
    "  retourne 1\n",
    "#3 n=4  i=2  fi=1\n",
    "  factorielle\n",
    "  #8   n=2  i=?  f=?\n",
    "  #10  n=2  i=2  f=1\n",
    "  #10  n=2  i=3  f=2\n",
    "  #13  n=2  i=3  f=2\n",
    "  retourne 2\n",
    "#3 n=4  i=3  fi=2\n",
    "  factorielle\n",
    "  #8   n=3  i=?  f=?\n",
    "  #10  n=3  i=2  f=1\n",
    "  #10  n=3  i=3  f=2\n",
    "  #10  n=3  i=4  f=6\n",
    "  #13  n=3  i=4  f=6\n",
    "  retourne 6\n",
    "#3 n=4  i=4  fi=6\n",
    "  factorielle\n",
    "  #8   n=4  i=?  f=?\n",
    "  #10  n=4  i=2  f=1\n",
    "  #10  n=4  i=3  f=2\n",
    "  #10  n=4  i=4  f=6\n",
    "  #10  n=4  i=5  f=24\n",
    "  #13  n=4  i=5  f=24\n",
    "  retourne 24\n",
    "#3 n=4  i=5  fi=24\n",
    "#7 n=4  i=5  fi=24\n",
    "```\n",
    "\n",
    "On note que la longueur de la trace de `affiche_factorielles` ne dépend de la longueur des traces successives de `factorielle`. La taille *totale* de la trace est proportionnelle à 1+2+...+n, soit $\\frac{n(n+1)}{2}$. La complexité de `affiche_factorielles` est donc 𝓞(n²)."
   ]
  },
  {
   "cell_type": "code",
   "execution_count": 6,
   "metadata": {},
   "outputs": [
    {
     "name": "stdout",
     "output_type": "stream",
     "text": [
      "4037914\n"
     ]
    }
   ],
   "source": [
    "# en supposant donnée la fonction factorielle\n",
    "# écrivez la fonction somme_fact dont le contrat est donné ci-dessous\n",
    "def somme_fact(n):\n",
    "    \"\"\"\n",
    "    :entrée n: int\n",
    "    :pré-cond: n >= 0\n",
    "    :sortie s: int\n",
    "    :post-cond: s est la somme des factorielles de 0 à n inclus\n",
    "    \"\"\"\n",
    "    s = 0\n",
    "    i = 0\n",
    "    while i <= n:\n",
    "        s = s+factorielle(i)\n",
    "        i = i+1\n",
    "    return s\n",
    "\n",
    "print(somme_fact(10))\n",
    "\n",
    "# complexité 𝓞(n²), on doit pouvoir mieux faire..."
   ]
  }
 ],
 "metadata": {
  "kernelspec": {
   "display_name": "Python 3",
   "language": "python",
   "name": "python3"
  },
  "language_info": {
   "codemirror_mode": {
    "name": "ipython",
    "version": 3
   },
   "file_extension": ".py",
   "mimetype": "text/x-python",
   "name": "python",
   "nbconvert_exporter": "python",
   "pygments_lexer": "ipython3",
   "version": "3.5.3"
  }
 },
 "nbformat": 4,
 "nbformat_minor": 2
}
